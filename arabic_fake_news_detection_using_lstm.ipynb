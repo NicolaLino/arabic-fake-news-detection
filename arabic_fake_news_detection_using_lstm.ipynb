{
  "cells": [
    {
      "cell_type": "code",
      "execution_count": null,
      "id": "iZC8ZNI56rTZ",
      "metadata": {
        "colab": {
          "base_uri": "https://localhost:8080/"
        },
        "id": "iZC8ZNI56rTZ",
        "outputId": "5a62788a-6990-43bf-cd3d-77c5254e6aa9"
      },
      "outputs": [
        {
          "name": "stdout",
          "output_type": "stream",
          "text": [
            "Mounted at /content/drive\n"
          ]
        }
      ],
      "source": [
        "from google.colab import drive\n",
        "drive.mount('/content/drive')"
      ]
    },
    {
      "cell_type": "code",
      "execution_count": null,
      "id": "61adb9c1",
      "metadata": {
        "execution": {
          "iopub.execute_input": "2024-02-08T09:24:59.650106Z",
          "iopub.status.busy": "2024-02-08T09:24:59.649826Z",
          "iopub.status.idle": "2024-02-08T09:25:14.118545Z",
          "shell.execute_reply": "2024-02-08T09:25:14.117663Z"
        },
        "id": "61adb9c1",
        "papermill": {
          "duration": 14.477652,
          "end_time": "2024-02-08T09:25:14.120878",
          "exception": false,
          "start_time": "2024-02-08T09:24:59.643226",
          "status": "completed"
        },
        "tags": []
      },
      "outputs": [],
      "source": [
        "import os\n",
        "import json\n",
        "import pandas as pd\n",
        "import numpy as np\n",
        "import matplotlib.pyplot as plt\n",
        "import nltk\n",
        "from nltk.corpus import stopwords\n",
        "from sklearn.model_selection import train_test_split\n",
        "from sklearn.preprocessing import LabelEncoder\n",
        "from sklearn.metrics import accuracy_score, confusion_matrix, classification_report\n",
        "import seaborn as sns\n",
        "\n",
        "import tensorflow as tf\n",
        "from tensorflow.keras.models import Sequential\n",
        "from tensorflow.keras.layers import Embedding, LSTM, Dense, SpatialDropout1D\n",
        "from tensorflow.keras.preprocessing.text import Tokenizer\n",
        "from tensorflow.keras.preprocessing.sequence import pad_sequences"
      ]
    },
    {
      "cell_type": "code",
      "execution_count": null,
      "id": "qwyYdTrJLt3_",
      "metadata": {
        "colab": {
          "base_uri": "https://localhost:8080/"
        },
        "id": "qwyYdTrJLt3_",
        "outputId": "576d2130-e224-4795-d062-e61a846b7861"
      },
      "outputs": [
        {
          "name": "stdout",
          "output_type": "stream",
          "text": [
            "2.15.0\n"
          ]
        }
      ],
      "source": [
        "print(tf.__version__)"
      ]
    },
    {
      "cell_type": "code",
      "execution_count": null,
      "id": "358ee1ed",
      "metadata": {
        "_kg_hide-input": false,
        "colab": {
          "base_uri": "https://localhost:8080/"
        },
        "execution": {
          "iopub.execute_input": "2024-02-08T09:25:14.133401Z",
          "iopub.status.busy": "2024-02-08T09:25:14.132824Z",
          "iopub.status.idle": "2024-02-08T09:25:14.140577Z",
          "shell.execute_reply": "2024-02-08T09:25:14.139872Z"
        },
        "id": "358ee1ed",
        "outputId": "45d54f90-9bcc-462d-e38e-665fc0782b37",
        "papermill": {
          "duration": 0.015835,
          "end_time": "2024-02-08T09:25:14.142409",
          "exception": false,
          "start_time": "2024-02-08T09:25:14.126574",
          "status": "completed"
        },
        "tags": []
      },
      "outputs": [
        {
          "name": "stderr",
          "output_type": "stream",
          "text": [
            "[nltk_data] Downloading package stopwords to /root/nltk_data...\n",
            "[nltk_data]   Unzipping corpora/stopwords.zip.\n"
          ]
        }
      ],
      "source": [
        "# Getting the Arabic stopwords from NLTK\n",
        "nltk.download('stopwords')\n",
        "stop_words = set(stopwords.words('arabic'))"
      ]
    },
    {
      "cell_type": "code",
      "execution_count": null,
      "id": "a82c3d9e",
      "metadata": {
        "execution": {
          "iopub.execute_input": "2024-02-08T09:25:14.154116Z",
          "iopub.status.busy": "2024-02-08T09:25:14.153834Z",
          "iopub.status.idle": "2024-02-08T09:25:14.157630Z",
          "shell.execute_reply": "2024-02-08T09:25:14.156759Z"
        },
        "id": "a82c3d9e",
        "papermill": {
          "duration": 0.011673,
          "end_time": "2024-02-08T09:25:14.159442",
          "exception": false,
          "start_time": "2024-02-08T09:25:14.147769",
          "status": "completed"
        },
        "tags": []
      },
      "outputs": [],
      "source": [
        "# Specify the path to your dataset directory\n",
        "dataset_dir = \"/content/drive/MyDrive/traffic_analysis/AFND/Dataset\""
      ]
    },
    {
      "cell_type": "code",
      "execution_count": null,
      "id": "b007e793",
      "metadata": {
        "execution": {
          "iopub.execute_input": "2024-02-08T09:25:14.171033Z",
          "iopub.status.busy": "2024-02-08T09:25:14.170765Z",
          "iopub.status.idle": "2024-02-08T09:25:14.194602Z",
          "shell.execute_reply": "2024-02-08T09:25:14.193880Z"
        },
        "id": "b007e793",
        "papermill": {
          "duration": 0.031757,
          "end_time": "2024-02-08T09:25:14.196442",
          "exception": false,
          "start_time": "2024-02-08T09:25:14.164685",
          "status": "completed"
        },
        "tags": []
      },
      "outputs": [],
      "source": [
        "# Read sources.json\n",
        "sources_file_path = '/content/drive/MyDrive/traffic_analysis/AFND/sources.json'\n",
        "with open(sources_file_path, 'r', encoding='utf-8') as sources_file:\n",
        "    sources_data = json.load(sources_file)\n",
        "sources_df = pd.DataFrame(list(sources_data.items()), columns=['source', 'label'])"
      ]
    },
    {
      "cell_type": "code",
      "execution_count": null,
      "id": "6fe46f46",
      "metadata": {
        "execution": {
          "iopub.execute_input": "2024-02-08T09:25:14.208170Z",
          "iopub.status.busy": "2024-02-08T09:25:14.207901Z",
          "iopub.status.idle": "2024-02-08T09:25:58.051871Z",
          "shell.execute_reply": "2024-02-08T09:25:58.050804Z"
        },
        "id": "6fe46f46",
        "papermill": {
          "duration": 43.852382,
          "end_time": "2024-02-08T09:25:58.054213",
          "exception": false,
          "start_time": "2024-02-08T09:25:14.201831",
          "status": "completed"
        },
        "tags": []
      },
      "outputs": [],
      "source": [
        "# Read scraped_articles.json for each source\n",
        "articles_data = []\n",
        "\n",
        "for source in sources_df['source']:\n",
        "    scraped_articles_path = os.path.join(dataset_dir, source, 'scraped_articles.json')\n",
        "\n",
        "    # Check if the file exists before attempting to read it\n",
        "    if os.path.exists(scraped_articles_path):\n",
        "        with open(scraped_articles_path, 'r', encoding='utf-8') as articles_file:\n",
        "            source_articles_dict = json.load(articles_file)\n",
        "            source_articles_list = source_articles_dict.get(\"articles\", [])\n",
        "\n",
        "            # Add a 'source' key to each article\n",
        "            for article in source_articles_list:\n",
        "                article['source'] = source\n",
        "\n",
        "            articles_data.extend(source_articles_list)\n",
        "\n",
        "# Convert articles_data to a DataFrame\n",
        "articles_df = pd.DataFrame(articles_data)"
      ]
    },
    {
      "cell_type": "code",
      "execution_count": null,
      "id": "8d0f4936",
      "metadata": {
        "execution": {
          "iopub.execute_input": "2024-02-08T09:25:58.066697Z",
          "iopub.status.busy": "2024-02-08T09:25:58.066380Z",
          "iopub.status.idle": "2024-02-08T09:25:58.240067Z",
          "shell.execute_reply": "2024-02-08T09:25:58.239005Z"
        },
        "id": "8d0f4936",
        "papermill": {
          "duration": 0.182304,
          "end_time": "2024-02-08T09:25:58.242357",
          "exception": false,
          "start_time": "2024-02-08T09:25:58.060053",
          "status": "completed"
        },
        "tags": []
      },
      "outputs": [],
      "source": [
        "# Merge the articles with their sources(labels)\n",
        "merged_df = pd.merge(articles_df, sources_df, how='inner', left_on='source', right_on='source')"
      ]
    },
    {
      "cell_type": "code",
      "execution_count": null,
      "id": "b438aa08",
      "metadata": {
        "colab": {
          "base_uri": "https://localhost:8080/",
          "height": 297
        },
        "execution": {
          "iopub.execute_input": "2024-02-08T09:25:58.254795Z",
          "iopub.status.busy": "2024-02-08T09:25:58.254498Z",
          "iopub.status.idle": "2024-02-08T09:25:58.268880Z",
          "shell.execute_reply": "2024-02-08T09:25:58.267989Z"
        },
        "id": "b438aa08",
        "outputId": "6a92e619-1960-4222-c682-3d065b93cb04",
        "papermill": {
          "duration": 0.022815,
          "end_time": "2024-02-08T09:25:58.270888",
          "exception": false,
          "start_time": "2024-02-08T09:25:58.248073",
          "status": "completed"
        },
        "tags": []
      },
      "outputs": [
        {
          "name": "stdout",
          "output_type": "stream",
          "text": [
            "label\n",
            "undecided       232369\n",
            "credible        207310\n",
            "not credible    167233\n",
            "Name: count, dtype: int64\n"
          ]
        },
        {
          "data": {
            "application/vnd.google.colaboratory.intrinsic+json": {
              "type": "dataframe",
              "variable_name": "merged_df"
            },
            "text/html": [
              "\n",
              "  <div id=\"df-5729954d-e384-4a71-a9be-22b692a33b3d\" class=\"colab-df-container\">\n",
              "    <div>\n",
              "<style scoped>\n",
              "    .dataframe tbody tr th:only-of-type {\n",
              "        vertical-align: middle;\n",
              "    }\n",
              "\n",
              "    .dataframe tbody tr th {\n",
              "        vertical-align: top;\n",
              "    }\n",
              "\n",
              "    .dataframe thead th {\n",
              "        text-align: right;\n",
              "    }\n",
              "</style>\n",
              "<table border=\"1\" class=\"dataframe\">\n",
              "  <thead>\n",
              "    <tr style=\"text-align: right;\">\n",
              "      <th></th>\n",
              "      <th>title</th>\n",
              "      <th>text</th>\n",
              "      <th>published date</th>\n",
              "      <th>source</th>\n",
              "      <th>label</th>\n",
              "    </tr>\n",
              "  </thead>\n",
              "  <tbody>\n",
              "    <tr>\n",
              "      <th>0</th>\n",
              "      <td>المنتخب الوطني المغربي لأقل من 20 سنة يخوض تجم...</td>\n",
              "      <td>يخوض المنتخب الوطني المغربي لكرة القدم لأقل من...</td>\n",
              "      <td>2021-05-23T00:00:00</td>\n",
              "      <td>source_1</td>\n",
              "      <td>credible</td>\n",
              "    </tr>\n",
              "    <tr>\n",
              "      <th>1</th>\n",
              "      <td>وزير النقل اعمارة:السرعة عامل مسبب لحوادث السي...</td>\n",
              "      <td>ترأس عبد القادر اعمارة، وزير التجهيز و النقل و...</td>\n",
              "      <td>2021-05-22T00:00:00</td>\n",
              "      <td>source_1</td>\n",
              "      <td>credible</td>\n",
              "    </tr>\n",
              "    <tr>\n",
              "      <th>2</th>\n",
              "      <td>ميسي يؤكد أن الفوز بكأس اسبانيا كان \"نقطة تحول\"</td>\n",
              "      <td>أكد النجم الارجنتيني ليونيل ميسي أن فوز فريقه ...</td>\n",
              "      <td>2021-05-22T00:00:00</td>\n",
              "      <td>source_1</td>\n",
              "      <td>credible</td>\n",
              "    </tr>\n",
              "    <tr>\n",
              "      <th>3</th>\n",
              "      <td>دبلوماسي مغربي سابق بإسبانيا لـ2M.ma: خطأ مدري...</td>\n",
              "      <td>أكّد الدبلوماسي المغربي السابق بإسبانيا، عبد ا...</td>\n",
              "      <td>2021-05-22T00:00:00</td>\n",
              "      <td>source_1</td>\n",
              "      <td>credible</td>\n",
              "    </tr>\n",
              "    <tr>\n",
              "      <th>4</th>\n",
              "      <td>شركتان، فرنسية وبريطانية تعلنان عن نتائج إيجاب...</td>\n",
              "      <td>أعلنت شركتا سانوفي الفرنسية العملاقة في تصنيع ...</td>\n",
              "      <td>2021-05-17T00:00:00</td>\n",
              "      <td>source_1</td>\n",
              "      <td>credible</td>\n",
              "    </tr>\n",
              "  </tbody>\n",
              "</table>\n",
              "</div>\n",
              "    <div class=\"colab-df-buttons\">\n",
              "\n",
              "  <div class=\"colab-df-container\">\n",
              "    <button class=\"colab-df-convert\" onclick=\"convertToInteractive('df-5729954d-e384-4a71-a9be-22b692a33b3d')\"\n",
              "            title=\"Convert this dataframe to an interactive table.\"\n",
              "            style=\"display:none;\">\n",
              "\n",
              "  <svg xmlns=\"http://www.w3.org/2000/svg\" height=\"24px\" viewBox=\"0 -960 960 960\">\n",
              "    <path d=\"M120-120v-720h720v720H120Zm60-500h600v-160H180v160Zm220 220h160v-160H400v160Zm0 220h160v-160H400v160ZM180-400h160v-160H180v160Zm440 0h160v-160H620v160ZM180-180h160v-160H180v160Zm440 0h160v-160H620v160Z\"/>\n",
              "  </svg>\n",
              "    </button>\n",
              "\n",
              "  <style>\n",
              "    .colab-df-container {\n",
              "      display:flex;\n",
              "      gap: 12px;\n",
              "    }\n",
              "\n",
              "    .colab-df-convert {\n",
              "      background-color: #E8F0FE;\n",
              "      border: none;\n",
              "      border-radius: 50%;\n",
              "      cursor: pointer;\n",
              "      display: none;\n",
              "      fill: #1967D2;\n",
              "      height: 32px;\n",
              "      padding: 0 0 0 0;\n",
              "      width: 32px;\n",
              "    }\n",
              "\n",
              "    .colab-df-convert:hover {\n",
              "      background-color: #E2EBFA;\n",
              "      box-shadow: 0px 1px 2px rgba(60, 64, 67, 0.3), 0px 1px 3px 1px rgba(60, 64, 67, 0.15);\n",
              "      fill: #174EA6;\n",
              "    }\n",
              "\n",
              "    .colab-df-buttons div {\n",
              "      margin-bottom: 4px;\n",
              "    }\n",
              "\n",
              "    [theme=dark] .colab-df-convert {\n",
              "      background-color: #3B4455;\n",
              "      fill: #D2E3FC;\n",
              "    }\n",
              "\n",
              "    [theme=dark] .colab-df-convert:hover {\n",
              "      background-color: #434B5C;\n",
              "      box-shadow: 0px 1px 3px 1px rgba(0, 0, 0, 0.15);\n",
              "      filter: drop-shadow(0px 1px 2px rgba(0, 0, 0, 0.3));\n",
              "      fill: #FFFFFF;\n",
              "    }\n",
              "  </style>\n",
              "\n",
              "    <script>\n",
              "      const buttonEl =\n",
              "        document.querySelector('#df-5729954d-e384-4a71-a9be-22b692a33b3d button.colab-df-convert');\n",
              "      buttonEl.style.display =\n",
              "        google.colab.kernel.accessAllowed ? 'block' : 'none';\n",
              "\n",
              "      async function convertToInteractive(key) {\n",
              "        const element = document.querySelector('#df-5729954d-e384-4a71-a9be-22b692a33b3d');\n",
              "        const dataTable =\n",
              "          await google.colab.kernel.invokeFunction('convertToInteractive',\n",
              "                                                    [key], {});\n",
              "        if (!dataTable) return;\n",
              "\n",
              "        const docLinkHtml = 'Like what you see? Visit the ' +\n",
              "          '<a target=\"_blank\" href=https://colab.research.google.com/notebooks/data_table.ipynb>data table notebook</a>'\n",
              "          + ' to learn more about interactive tables.';\n",
              "        element.innerHTML = '';\n",
              "        dataTable['output_type'] = 'display_data';\n",
              "        await google.colab.output.renderOutput(dataTable, element);\n",
              "        const docLink = document.createElement('div');\n",
              "        docLink.innerHTML = docLinkHtml;\n",
              "        element.appendChild(docLink);\n",
              "      }\n",
              "    </script>\n",
              "  </div>\n",
              "\n",
              "\n",
              "<div id=\"df-db460608-7a1b-4d9b-8843-aca134b7a26a\">\n",
              "  <button class=\"colab-df-quickchart\" onclick=\"quickchart('df-db460608-7a1b-4d9b-8843-aca134b7a26a')\"\n",
              "            title=\"Suggest charts\"\n",
              "            style=\"display:none;\">\n",
              "\n",
              "<svg xmlns=\"http://www.w3.org/2000/svg\" height=\"24px\"viewBox=\"0 0 24 24\"\n",
              "     width=\"24px\">\n",
              "    <g>\n",
              "        <path d=\"M19 3H5c-1.1 0-2 .9-2 2v14c0 1.1.9 2 2 2h14c1.1 0 2-.9 2-2V5c0-1.1-.9-2-2-2zM9 17H7v-7h2v7zm4 0h-2V7h2v10zm4 0h-2v-4h2v4z\"/>\n",
              "    </g>\n",
              "</svg>\n",
              "  </button>\n",
              "\n",
              "<style>\n",
              "  .colab-df-quickchart {\n",
              "      --bg-color: #E8F0FE;\n",
              "      --fill-color: #1967D2;\n",
              "      --hover-bg-color: #E2EBFA;\n",
              "      --hover-fill-color: #174EA6;\n",
              "      --disabled-fill-color: #AAA;\n",
              "      --disabled-bg-color: #DDD;\n",
              "  }\n",
              "\n",
              "  [theme=dark] .colab-df-quickchart {\n",
              "      --bg-color: #3B4455;\n",
              "      --fill-color: #D2E3FC;\n",
              "      --hover-bg-color: #434B5C;\n",
              "      --hover-fill-color: #FFFFFF;\n",
              "      --disabled-bg-color: #3B4455;\n",
              "      --disabled-fill-color: #666;\n",
              "  }\n",
              "\n",
              "  .colab-df-quickchart {\n",
              "    background-color: var(--bg-color);\n",
              "    border: none;\n",
              "    border-radius: 50%;\n",
              "    cursor: pointer;\n",
              "    display: none;\n",
              "    fill: var(--fill-color);\n",
              "    height: 32px;\n",
              "    padding: 0;\n",
              "    width: 32px;\n",
              "  }\n",
              "\n",
              "  .colab-df-quickchart:hover {\n",
              "    background-color: var(--hover-bg-color);\n",
              "    box-shadow: 0 1px 2px rgba(60, 64, 67, 0.3), 0 1px 3px 1px rgba(60, 64, 67, 0.15);\n",
              "    fill: var(--button-hover-fill-color);\n",
              "  }\n",
              "\n",
              "  .colab-df-quickchart-complete:disabled,\n",
              "  .colab-df-quickchart-complete:disabled:hover {\n",
              "    background-color: var(--disabled-bg-color);\n",
              "    fill: var(--disabled-fill-color);\n",
              "    box-shadow: none;\n",
              "  }\n",
              "\n",
              "  .colab-df-spinner {\n",
              "    border: 2px solid var(--fill-color);\n",
              "    border-color: transparent;\n",
              "    border-bottom-color: var(--fill-color);\n",
              "    animation:\n",
              "      spin 1s steps(1) infinite;\n",
              "  }\n",
              "\n",
              "  @keyframes spin {\n",
              "    0% {\n",
              "      border-color: transparent;\n",
              "      border-bottom-color: var(--fill-color);\n",
              "      border-left-color: var(--fill-color);\n",
              "    }\n",
              "    20% {\n",
              "      border-color: transparent;\n",
              "      border-left-color: var(--fill-color);\n",
              "      border-top-color: var(--fill-color);\n",
              "    }\n",
              "    30% {\n",
              "      border-color: transparent;\n",
              "      border-left-color: var(--fill-color);\n",
              "      border-top-color: var(--fill-color);\n",
              "      border-right-color: var(--fill-color);\n",
              "    }\n",
              "    40% {\n",
              "      border-color: transparent;\n",
              "      border-right-color: var(--fill-color);\n",
              "      border-top-color: var(--fill-color);\n",
              "    }\n",
              "    60% {\n",
              "      border-color: transparent;\n",
              "      border-right-color: var(--fill-color);\n",
              "    }\n",
              "    80% {\n",
              "      border-color: transparent;\n",
              "      border-right-color: var(--fill-color);\n",
              "      border-bottom-color: var(--fill-color);\n",
              "    }\n",
              "    90% {\n",
              "      border-color: transparent;\n",
              "      border-bottom-color: var(--fill-color);\n",
              "    }\n",
              "  }\n",
              "</style>\n",
              "\n",
              "  <script>\n",
              "    async function quickchart(key) {\n",
              "      const quickchartButtonEl =\n",
              "        document.querySelector('#' + key + ' button');\n",
              "      quickchartButtonEl.disabled = true;  // To prevent multiple clicks.\n",
              "      quickchartButtonEl.classList.add('colab-df-spinner');\n",
              "      try {\n",
              "        const charts = await google.colab.kernel.invokeFunction(\n",
              "            'suggestCharts', [key], {});\n",
              "      } catch (error) {\n",
              "        console.error('Error during call to suggestCharts:', error);\n",
              "      }\n",
              "      quickchartButtonEl.classList.remove('colab-df-spinner');\n",
              "      quickchartButtonEl.classList.add('colab-df-quickchart-complete');\n",
              "    }\n",
              "    (() => {\n",
              "      let quickchartButtonEl =\n",
              "        document.querySelector('#df-db460608-7a1b-4d9b-8843-aca134b7a26a button');\n",
              "      quickchartButtonEl.style.display =\n",
              "        google.colab.kernel.accessAllowed ? 'block' : 'none';\n",
              "    })();\n",
              "  </script>\n",
              "</div>\n",
              "\n",
              "    </div>\n",
              "  </div>\n"
            ],
            "text/plain": [
              "                                               title  \\\n",
              "0  المنتخب الوطني المغربي لأقل من 20 سنة يخوض تجم...   \n",
              "1  وزير النقل اعمارة:السرعة عامل مسبب لحوادث السي...   \n",
              "2    ميسي يؤكد أن الفوز بكأس اسبانيا كان \"نقطة تحول\"   \n",
              "3  دبلوماسي مغربي سابق بإسبانيا لـ2M.ma: خطأ مدري...   \n",
              "4  شركتان، فرنسية وبريطانية تعلنان عن نتائج إيجاب...   \n",
              "\n",
              "                                                text       published date  \\\n",
              "0  يخوض المنتخب الوطني المغربي لكرة القدم لأقل من...  2021-05-23T00:00:00   \n",
              "1  ترأس عبد القادر اعمارة، وزير التجهيز و النقل و...  2021-05-22T00:00:00   \n",
              "2  أكد النجم الارجنتيني ليونيل ميسي أن فوز فريقه ...  2021-05-22T00:00:00   \n",
              "3  أكّد الدبلوماسي المغربي السابق بإسبانيا، عبد ا...  2021-05-22T00:00:00   \n",
              "4  أعلنت شركتا سانوفي الفرنسية العملاقة في تصنيع ...  2021-05-17T00:00:00   \n",
              "\n",
              "     source     label  \n",
              "0  source_1  credible  \n",
              "1  source_1  credible  \n",
              "2  source_1  credible  \n",
              "3  source_1  credible  \n",
              "4  source_1  credible  "
            ]
          },
          "execution_count": 13,
          "metadata": {},
          "output_type": "execute_result"
        }
      ],
      "source": [
        "print(merged_df['label'].value_counts())\n",
        "merged_df.head()"
      ]
    },
    {
      "cell_type": "code",
      "execution_count": null,
      "id": "8fbccce3",
      "metadata": {
        "colab": {
          "base_uri": "https://localhost:8080/"
        },
        "execution": {
          "iopub.execute_input": "2024-02-08T09:25:58.283797Z",
          "iopub.status.busy": "2024-02-08T09:25:58.283543Z",
          "iopub.status.idle": "2024-02-08T09:25:58.289087Z",
          "shell.execute_reply": "2024-02-08T09:25:58.288211Z"
        },
        "id": "8fbccce3",
        "outputId": "d2e9b345-4230-4d8b-f705-da836bedfc0d",
        "papermill": {
          "duration": 0.014066,
          "end_time": "2024-02-08T09:25:58.290971",
          "exception": false,
          "start_time": "2024-02-08T09:25:58.276905",
          "status": "completed"
        },
        "tags": []
      },
      "outputs": [
        {
          "data": {
            "text/plain": [
              "(606912, 5)"
            ]
          },
          "execution_count": 14,
          "metadata": {},
          "output_type": "execute_result"
        }
      ],
      "source": [
        "merged_df.shape"
      ]
    },
    {
      "cell_type": "code",
      "execution_count": null,
      "id": "bbd4d51e",
      "metadata": {
        "colab": {
          "base_uri": "https://localhost:8080/",
          "height": 513
        },
        "execution": {
          "iopub.execute_input": "2024-02-08T09:25:58.304115Z",
          "iopub.status.busy": "2024-02-08T09:25:58.303838Z",
          "iopub.status.idle": "2024-02-08T09:25:58.894709Z",
          "shell.execute_reply": "2024-02-08T09:25:58.893738Z"
        },
        "id": "bbd4d51e",
        "outputId": "c65631cb-52d1-410a-b749-e2c4fbebede6",
        "papermill": {
          "duration": 0.6,
          "end_time": "2024-02-08T09:25:58.896904",
          "exception": false,
          "start_time": "2024-02-08T09:25:58.296904",
          "status": "completed"
        },
        "tags": []
      },
      "outputs": [
        {
          "data": {
            "text/plain": [
              "Text(0, 0.5, '# of Articles')"
            ]
          },
          "execution_count": 15,
          "metadata": {},
          "output_type": "execute_result"
        },
        {
          "data": {
            "image/png": "[encoded data removed]",
            "text/plain": [
              "<Figure size 1000x500 with 1 Axes>"
            ]
          },
          "metadata": {},
          "output_type": "display_data"
        }
      ],
      "source": [
        "plt.figure(figsize=(10, 5))\n",
        "plt.bar('Not Credible Articles', len(merged_df[merged_df['label'] == 'not credible']), color='orange')\n",
        "plt.bar('Credible Articles', len(merged_df[merged_df['label'] == 'credible']), color='green')\n",
        "plt.bar('Undecided Articles', len(merged_df[merged_df['label'] == 'undecided']), color='gray')\n",
        "plt.title('Distribution of Articles', size=15)\n",
        "plt.xlabel('Articles Type', size=15)\n",
        "plt.ylabel('# of Articles', size=15)"
      ]
    },
    {
      "cell_type": "code",
      "execution_count": null,
      "id": "b3b4af5e",
      "metadata": {
        "execution": {
          "iopub.execute_input": "2024-02-08T09:25:58.911470Z",
          "iopub.status.busy": "2024-02-08T09:25:58.911158Z",
          "iopub.status.idle": "2024-02-08T09:25:58.915567Z",
          "shell.execute_reply": "2024-02-08T09:25:58.914684Z"
        },
        "id": "b3b4af5e",
        "papermill": {
          "duration": 0.013933,
          "end_time": "2024-02-08T09:25:58.917601",
          "exception": false,
          "start_time": "2024-02-08T09:25:58.903668",
          "status": "completed"
        },
        "tags": []
      },
      "outputs": [],
      "source": [
        "# Data Preparation\n",
        "X = merged_df['text']\n",
        "y = merged_df['label']"
      ]
    },
    {
      "cell_type": "code",
      "execution_count": null,
      "id": "40b7bac4",
      "metadata": {
        "execution": {
          "iopub.execute_input": "2024-02-08T09:25:58.932775Z",
          "iopub.status.busy": "2024-02-08T09:25:58.932499Z",
          "iopub.status.idle": "2024-02-08T09:26:34.006093Z",
          "shell.execute_reply": "2024-02-08T09:26:34.005047Z"
        },
        "id": "40b7bac4",
        "papermill": {
          "duration": 35.083421,
          "end_time": "2024-02-08T09:26:34.008561",
          "exception": false,
          "start_time": "2024-02-08T09:25:58.925140",
          "status": "completed"
        },
        "tags": []
      },
      "outputs": [],
      "source": [
        "# Remove Arabic stopwords\n",
        "X = X.apply(lambda text: ' '.join([word for word in text.split() if word not in stop_words]))"
      ]
    },
    {
      "cell_type": "code",
      "execution_count": null,
      "id": "6070a369",
      "metadata": {
        "execution": {
          "iopub.execute_input": "2024-02-08T09:26:34.025491Z",
          "iopub.status.busy": "2024-02-08T09:26:34.025163Z",
          "iopub.status.idle": "2024-02-08T09:26:34.183521Z",
          "shell.execute_reply": "2024-02-08T09:26:34.182740Z"
        },
        "id": "6070a369",
        "papermill": {
          "duration": 0.168632,
          "end_time": "2024-02-08T09:26:34.185446",
          "exception": false,
          "start_time": "2024-02-08T09:26:34.016814",
          "status": "completed"
        },
        "tags": []
      },
      "outputs": [],
      "source": [
        "# Use LabelEncoder to convert labels to numerical format\n",
        "label_encoder = LabelEncoder()\n",
        "y_encoded = label_encoder.fit_transform(y)"
      ]
    },
    {
      "cell_type": "code",
      "execution_count": null,
      "id": "b8ba93cc",
      "metadata": {
        "execution": {
          "iopub.execute_input": "2024-02-08T09:26:34.200392Z",
          "iopub.status.busy": "2024-02-08T09:26:34.200079Z",
          "iopub.status.idle": "2024-02-08T09:26:34.260037Z",
          "shell.execute_reply": "2024-02-08T09:26:34.259286Z"
        },
        "id": "b8ba93cc",
        "papermill": {
          "duration": 0.069875,
          "end_time": "2024-02-08T09:26:34.262292",
          "exception": false,
          "start_time": "2024-02-08T09:26:34.192417",
          "status": "completed"
        },
        "tags": []
      },
      "outputs": [],
      "source": [
        "# Split into training and testing sets\n",
        "X_train, X_test, y_train, y_test = train_test_split(X, y_encoded, test_size=0.2, random_state=42)"
      ]
    },
    {
      "cell_type": "code",
      "execution_count": null,
      "id": "ecf37e9c",
      "metadata": {
        "execution": {
          "iopub.execute_input": "2024-02-08T09:26:34.277452Z",
          "iopub.status.busy": "2024-02-08T09:26:34.277146Z",
          "iopub.status.idle": "2024-02-08T09:29:21.471318Z",
          "shell.execute_reply": "2024-02-08T09:29:21.470209Z"
        },
        "id": "ecf37e9c",
        "papermill": {
          "duration": 167.204446,
          "end_time": "2024-02-08T09:29:21.473821",
          "exception": false,
          "start_time": "2024-02-08T09:26:34.269375",
          "status": "completed"
        },
        "tags": []
      },
      "outputs": [],
      "source": [
        "# Tokenization and Padding\n",
        "max_vocab = 10000\n",
        "tokenizer = Tokenizer(num_words=max_vocab)\n",
        "tokenizer.fit_on_texts(X_train)"
      ]
    },
    {
      "cell_type": "code",
      "execution_count": null,
      "id": "6219b15d",
      "metadata": {
        "execution": {
          "iopub.execute_input": "2024-02-08T09:29:21.489670Z",
          "iopub.status.busy": "2024-02-08T09:29:21.489348Z",
          "iopub.status.idle": "2024-02-08T09:31:54.296992Z",
          "shell.execute_reply": "2024-02-08T09:31:54.296157Z"
        },
        "id": "6219b15d",
        "papermill": {
          "duration": 152.817995,
          "end_time": "2024-02-08T09:31:54.299341",
          "exception": false,
          "start_time": "2024-02-08T09:29:21.481346",
          "status": "completed"
        },
        "tags": []
      },
      "outputs": [],
      "source": [
        "X_train_sequences = tokenizer.texts_to_sequences(X_train)\n",
        "X_test_sequences = tokenizer.texts_to_sequences(X_test)"
      ]
    },
    {
      "cell_type": "code",
      "execution_count": null,
      "id": "cf78a675",
      "metadata": {
        "execution": {
          "iopub.execute_input": "2024-02-08T09:31:54.315565Z",
          "iopub.status.busy": "2024-02-08T09:31:54.314909Z",
          "iopub.status.idle": "2024-02-08T09:32:01.138104Z",
          "shell.execute_reply": "2024-02-08T09:32:01.137286Z"
        },
        "id": "cf78a675",
        "papermill": {
          "duration": 6.833653,
          "end_time": "2024-02-08T09:32:01.140380",
          "exception": false,
          "start_time": "2024-02-08T09:31:54.306727",
          "status": "completed"
        },
        "tags": []
      },
      "outputs": [],
      "source": [
        "max_sequence_length = 128   # Set an appropriate value\n",
        "X_train_padded = pad_sequences(X_train_sequences, maxlen=max_sequence_length, padding='post')\n",
        "X_test_padded = pad_sequences(X_test_sequences, maxlen=max_sequence_length, padding='post')"
      ]
    },
    {
      "cell_type": "code",
      "execution_count": null,
      "id": "Hxgf5rRqQmzI",
      "metadata": {
        "id": "Hxgf5rRqQmzI"
      },
      "outputs": [],
      "source": [
        "import pickle\n",
        "\n",
        "with open('/content/drive/MyDrive/traffic_analysis/tokenizer.pkl', 'wb') as handle:\n",
        "    pickle.dump(tokenizer, handle, protocol=pickle.HIGHEST_PROTOCOL)"
      ]
    },
    {
      "cell_type": "code",
      "execution_count": null,
      "id": "7c719a8b",
      "metadata": {
        "execution": {
          "iopub.execute_input": "2024-02-08T09:32:01.156085Z",
          "iopub.status.busy": "2024-02-08T09:32:01.155785Z",
          "iopub.status.idle": "2024-02-08T09:32:02.890631Z",
          "shell.execute_reply": "2024-02-08T09:32:02.889619Z"
        },
        "id": "7c719a8b",
        "papermill": {
          "duration": 1.745206,
          "end_time": "2024-02-08T09:32:02.892948",
          "exception": false,
          "start_time": "2024-02-08T09:32:01.147742",
          "status": "completed"
        },
        "tags": []
      },
      "outputs": [],
      "source": [
        "# LSTM Model\n",
        "model = Sequential()\n",
        "model.add(Embedding(input_dim=len(tokenizer.word_index) + 1, output_dim=100))\n",
        "model.add(SpatialDropout1D(0.2))  # Dropout layer for regularization\n",
        "model.add(LSTM(units=64, return_sequences=True))\n",
        "model.add(LSTM(units=64))\n",
        "model.add(Dense(units=len(np.unique(y_encoded)), activation='softmax'))"
      ]
    },
    {
      "cell_type": "code",
      "execution_count": null,
      "id": "107cadc4",
      "metadata": {
        "execution": {
          "iopub.execute_input": "2024-02-08T09:32:02.908881Z",
          "iopub.status.busy": "2024-02-08T09:32:02.908342Z",
          "iopub.status.idle": "2024-02-08T09:32:02.926149Z",
          "shell.execute_reply": "2024-02-08T09:32:02.925277Z"
        },
        "id": "107cadc4",
        "papermill": {
          "duration": 0.027658,
          "end_time": "2024-02-08T09:32:02.928041",
          "exception": false,
          "start_time": "2024-02-08T09:32:02.900383",
          "status": "completed"
        },
        "tags": []
      },
      "outputs": [],
      "source": [
        "# Compile the Model\n",
        "model.compile(loss='sparse_categorical_crossentropy',\n",
        "              optimizer=tf.keras.optimizers.Adam(1e-4),\n",
        "              metrics=['accuracy'])"
      ]
    },
    {
      "cell_type": "code",
      "execution_count": null,
      "id": "5e02cca5",
      "metadata": {
        "colab": {
          "base_uri": "https://localhost:8080/"
        },
        "execution": {
          "iopub.execute_input": "2024-02-08T09:32:02.943217Z",
          "iopub.status.busy": "2024-02-08T09:32:02.942940Z",
          "iopub.status.idle": "2024-02-08T09:32:02.965263Z",
          "shell.execute_reply": "2024-02-08T09:32:02.964358Z"
        },
        "id": "5e02cca5",
        "outputId": "20af6b5d-da4b-4019-a620-fbcd3e32a695",
        "papermill": {
          "duration": 0.0353,
          "end_time": "2024-02-08T09:32:02.970390",
          "exception": false,
          "start_time": "2024-02-08T09:32:02.935090",
          "status": "completed"
        },
        "tags": []
      },
      "outputs": [
        {
          "name": "stdout",
          "output_type": "stream",
          "text": [
            "Model: \"sequential\"\n",
            "_________________________________________________________________\n",
            " Layer (type)                Output Shape              Param #   \n",
            "=================================================================\n",
            " embedding (Embedding)       (None, None, 100)         182679900 \n",
            "                                                                 \n",
            " spatial_dropout1d (Spatial  (None, None, 100)         0         \n",
            " Dropout1D)                                                      \n",
            "                                                                 \n",
            " lstm (LSTM)                 (None, None, 64)          42240     \n",
            "                                                                 \n",
            " lstm_1 (LSTM)               (None, 64)                33024     \n",
            "                                                                 \n",
            " dense (Dense)               (None, 3)                 195       \n",
            "                                                                 \n",
            "=================================================================\n",
            "Total params: 182755359 (697.16 MB)\n",
            "Trainable params: 182755359 (697.16 MB)\n",
            "Non-trainable params: 0 (0.00 Byte)\n",
            "_________________________________________________________________\n"
          ]
        }
      ],
      "source": [
        "# Print the Model Summary\n",
        "model.summary()"
      ]
    },
    {
      "cell_type": "code",
      "execution_count": null,
      "id": "8aa44b89",
      "metadata": {
        "colab": {
          "base_uri": "https://localhost:8080/"
        },
        "execution": {
          "iopub.execute_input": "2024-02-08T09:32:02.988775Z",
          "iopub.status.busy": "2024-02-08T09:32:02.988505Z",
          "iopub.status.idle": "2024-02-08T10:07:00.240661Z",
          "shell.execute_reply": "2024-02-08T10:07:00.239583Z"
        },
        "id": "8aa44b89",
        "outputId": "39ba90d0-dc4e-4b7f-f93b-ffb0a81fabe2",
        "papermill": {
          "duration": 2099.930426,
          "end_time": "2024-02-08T10:07:02.909465",
          "exception": false,
          "start_time": "2024-02-08T09:32:02.979039",
          "status": "completed"
        },
        "tags": []
      },
      "outputs": [
        {
          "name": "stdout",
          "output_type": "stream",
          "text": [
            "Epoch 1/10\n",
            "6070/6070 [==============================] - 445s 72ms/step - loss: 0.8843 - accuracy: 0.5682 - val_loss: 0.7830 - val_accuracy: 0.6397\n",
            "Epoch 2/10\n",
            "6070/6070 [==============================] - 343s 57ms/step - loss: 0.7500 - accuracy: 0.6609 - val_loss: 0.7284 - val_accuracy: 0.6646\n",
            "Epoch 3/10\n",
            "6070/6070 [==============================] - 345s 57ms/step - loss: 0.6895 - accuracy: 0.6890 - val_loss: 0.6924 - val_accuracy: 0.6853\n",
            "Epoch 4/10\n",
            "6070/6070 [==============================] - 346s 57ms/step - loss: 0.6570 - accuracy: 0.7050 - val_loss: 0.6860 - val_accuracy: 0.6896\n",
            "Epoch 5/10\n",
            "6070/6070 [==============================] - 345s 57ms/step - loss: 0.6362 - accuracy: 0.7157 - val_loss: 0.6716 - val_accuracy: 0.6958\n",
            "Epoch 6/10\n",
            "6070/6070 [==============================] - 340s 56ms/step - loss: 0.6197 - accuracy: 0.7234 - val_loss: 0.6608 - val_accuracy: 0.6976\n",
            "Epoch 7/10\n",
            "6070/6070 [==============================] - 339s 56ms/step - loss: 0.6044 - accuracy: 0.7313 - val_loss: 0.6690 - val_accuracy: 0.6997\n",
            "Epoch 8/10\n",
            "6070/6070 [==============================] - 341s 56ms/step - loss: 0.5913 - accuracy: 0.7383 - val_loss: 0.6585 - val_accuracy: 0.7019\n",
            "Epoch 9/10\n",
            "6070/6070 [==============================] - 336s 55ms/step - loss: 0.5791 - accuracy: 0.7443 - val_loss: 0.6690 - val_accuracy: 0.7004\n",
            "Epoch 10/10\n",
            "6070/6070 [==============================] - 340s 56ms/step - loss: 0.5694 - accuracy: 0.7489 - val_loss: 0.6555 - val_accuracy: 0.7007\n"
          ]
        },
        {
          "data": {
            "text/plain": [
              "<keras.src.callbacks.History at 0x7cfcca4b1d80>"
            ]
          },
          "execution_count": 23,
          "metadata": {},
          "output_type": "execute_result"
        }
      ],
      "source": [
        "# Train the Model\n",
        "early_stop = tf.keras.callbacks.EarlyStopping(monitor='val_loss', patience=2, restore_best_weights=True)\n",
        "\n",
        "model.fit(X_train_padded, y_train, epochs=10, validation_split=0.2, batch_size=64, shuffle=True, callbacks=[early_stop])\n",
        "\n",
        "\n"
      ]
    },
    {
      "cell_type": "code",
      "execution_count": null,
      "id": "NLvBulUM_Cqt",
      "metadata": {
        "colab": {
          "base_uri": "https://localhost:8080/"
        },
        "id": "NLvBulUM_Cqt",
        "outputId": "583c0e66-137c-4d41-e7fe-8bc937f9ff1f"
      },
      "outputs": [
        {
          "name": "stderr",
          "output_type": "stream",
          "text": [
            "/usr/local/lib/python3.10/dist-packages/keras/src/engine/training.py:3103: UserWarning: You are saving your model as an HDF5 file via `model.save()`. This file format is considered legacy. We recommend using instead the native Keras format, e.g. `model.save('my_model.keras')`.\n",
            "  saving_api.save_model(\n",
            "<ipython-input-24-bf71622f8033>:6: UserWarning: You are saving your model as an HDF5 file via `model.save()`. This file format is considered legacy. We recommend using instead the native Keras format, e.g. `model.save('my_model.keras')`.\n",
            "  tf.keras.models.save_model(model, '/content/drive/MyDrive/traffic_analysis/lstm_model3k.h5')\n"
          ]
        }
      ],
      "source": [
        "model.save('/content/drive/MyDrive/traffic_analysis/lstm_model3.h5')\n",
        "\n",
        "from keras.models import load_model\n",
        "\n",
        "# Assuming 'model' is already defined and trained\n",
        "tf.keras.models.save_model(model, '/content/drive/MyDrive/traffic_analysis/lstm_model3k.h5')"
      ]
    },
    {
      "cell_type": "code",
      "execution_count": null,
      "id": "b9ffe01a",
      "metadata": {
        "colab": {
          "base_uri": "https://localhost:8080/"
        },
        "execution": {
          "iopub.execute_input": "2024-02-08T10:07:08.099442Z",
          "iopub.status.busy": "2024-02-08T10:07:08.099032Z",
          "iopub.status.idle": "2024-02-08T10:07:31.482218Z",
          "shell.execute_reply": "2024-02-08T10:07:31.481190Z"
        },
        "id": "b9ffe01a",
        "outputId": "ae095632-9369-4ac4-846e-b42722637213",
        "papermill": {
          "duration": 25.99774,
          "end_time": "2024-02-08T10:07:31.484339",
          "exception": false,
          "start_time": "2024-02-08T10:07:05.486599",
          "status": "completed"
        },
        "tags": []
      },
      "outputs": [
        {
          "name": "stdout",
          "output_type": "stream",
          "text": [
            "3794/3794 [==============================] - 38s 10ms/step\n",
            "Test Accuracy: 0.7012\n"
          ]
        }
      ],
      "source": [
        "# Evaluate the Model\n",
        "y_pred_probs = model.predict(X_test_padded)\n",
        "y_pred = np.argmax(y_pred_probs, axis=1)\n",
        "\n",
        "accuracy = accuracy_score(y_test, y_pred)\n",
        "print(f\"Test Accuracy: {accuracy:.4f}\")"
      ]
    },
    {
      "cell_type": "code",
      "execution_count": null,
      "id": "4a354ce8",
      "metadata": {
        "colab": {
          "base_uri": "https://localhost:8080/"
        },
        "execution": {
          "iopub.execute_input": "2024-02-08T10:07:36.691823Z",
          "iopub.status.busy": "2024-02-08T10:07:36.691460Z",
          "iopub.status.idle": "2024-02-08T10:07:36.744450Z",
          "shell.execute_reply": "2024-02-08T10:07:36.743550Z"
        },
        "id": "4a354ce8",
        "outputId": "47f1f52b-5c51-4a2d-b1dd-737bc86a8c1a",
        "papermill": {
          "duration": 2.647539,
          "end_time": "2024-02-08T10:07:36.746390",
          "exception": false,
          "start_time": "2024-02-08T10:07:34.098851",
          "status": "completed"
        },
        "tags": []
      },
      "outputs": [
        {
          "name": "stdout",
          "output_type": "stream",
          "text": [
            "              precision    recall  f1-score   support\n",
            "\n",
            "           0       0.71      0.75      0.73     41308\n",
            "           1       0.66      0.58      0.62     33392\n",
            "           2       0.72      0.74      0.73     46683\n",
            "\n",
            "    accuracy                           0.70    121383\n",
            "   macro avg       0.70      0.69      0.69    121383\n",
            "weighted avg       0.70      0.70      0.70    121383\n",
            "\n"
          ]
        }
      ],
      "source": [
        "# Evaluate other metrics\n",
        "print(classification_report(y_test, y_pred))"
      ]
    },
    {
      "cell_type": "code",
      "execution_count": null,
      "id": "8e936bd0",
      "metadata": {
        "colab": {
          "base_uri": "https://localhost:8080/",
          "height": 564
        },
        "execution": {
          "iopub.execute_input": "2024-02-08T10:07:41.956091Z",
          "iopub.status.busy": "2024-02-08T10:07:41.955186Z",
          "iopub.status.idle": "2024-02-08T10:07:42.214377Z",
          "shell.execute_reply": "2024-02-08T10:07:42.213469Z"
        },
        "id": "8e936bd0",
        "outputId": "0dfa4c53-1276-472d-8e0a-aa787275e2fa",
        "papermill": {
          "duration": 2.866111,
          "end_time": "2024-02-08T10:07:42.216800",
          "exception": false,
          "start_time": "2024-02-08T10:07:39.350689",
          "status": "completed"
        },
        "tags": []
      },
      "outputs": [
        {
          "data": {
            "image/png": "[encoded data removed]",
            "text/plain": [
              "<Figure size 800x600 with 2 Axes>"
            ]
          },
          "metadata": {},
          "output_type": "display_data"
        }
      ],
      "source": [
        "# Confusion Matrix\n",
        "conf_matrix = confusion_matrix(y_test, y_pred)\n",
        "\n",
        "# Plot Confusion Matrix\n",
        "plt.figure(figsize=(8, 6))\n",
        "sns.heatmap(conf_matrix, annot=True, fmt='d', cmap='Blues', xticklabels=label_encoder.classes_, yticklabels=label_encoder.classes_)\n",
        "plt.xlabel('Predicted Labels')\n",
        "plt.ylabel('True Labels')\n",
        "plt.title('Confusion Matrix')\n",
        "plt.show()"
      ]
    },
    {
      "cell_type": "code",
      "execution_count": null,
      "id": "38a1108b",
      "metadata": {},
      "outputs": [
        {
          "name": "stdout",
          "output_type": "stream",
          "text": [
            "Model: \"sequential\"\n",
            "_________________________________________________________________\n",
            " Layer (type)                Output Shape              Param #   \n",
            "=================================================================\n",
            " embedding (Embedding)       (None, None, 100)         182679900 \n",
            "                                                                 \n",
            " spatial_dropout1d (Spatial  (None, None, 100)         0         \n",
            " Dropout1D)                                                      \n",
            "                                                                 \n",
            " lstm (LSTM)                 (None, None, 64)          42240     \n",
            "                                                                 \n",
            " lstm_1 (LSTM)               (None, 64)                33024     \n",
            "                                                                 \n",
            " dense (Dense)               (None, 3)                 195       \n",
            "                                                                 \n",
            "=================================================================\n",
            "Total params: 182755359 (697.16 MB)\n",
            "Trainable params: 182755359 (697.16 MB)\n",
            "Non-trainable params: 0 (0.00 Byte)\n",
            "_________________________________________________________________\n",
            "None\n"
          ]
        }
      ],
      "source": [
        "# Load model with custom objects\n",
        "model = tf.keras.models.load_model(\"/content/drive/MyDrive/traffic_analysis/lstm_model3k.h5\")\n",
        "\n",
        "print(model.summary())"
      ]
    }
  ],
  "metadata": {
    "accelerator": "GPU",
    "colab": {
      "gpuType": "T4",
      "provenance": []
    },
    "kaggle": {
      "accelerator": "gpu",
      "dataSources": [
        {
          "datasetId": 2172390,
          "sourceId": 3626327,
          "sourceType": "datasetVersion"
        }
      ],
      "dockerImageVersionId": 30648,
      "isGpuEnabled": true,
      "isInternetEnabled": false,
      "language": "python",
      "sourceType": "notebook"
    },
    "kernelspec": {
      "display_name": "Python 3",
      "name": "python3"
    },
    "language_info": {
      "codemirror_mode": {
        "name": "ipython",
        "version": 3
      },
      "file_extension": ".py",
      "mimetype": "text/x-python",
      "name": "python",
      "nbconvert_exporter": "python",
      "pygments_lexer": "ipython3",
      "version": "3.10.7"
    },
    "papermill": {
      "default_parameters": {},
      "duration": 2570.901745,
      "end_time": "2024-02-08T10:07:47.874021",
      "environment_variables": {},
      "exception": null,
      "input_path": "__notebook__.ipynb",
      "output_path": "__notebook__.ipynb",
      "parameters": {},
      "start_time": "2024-02-08T09:24:56.972276",
      "version": "2.5.0"
    }
  },
  "nbformat": 4,
  "nbformat_minor": 5
}
